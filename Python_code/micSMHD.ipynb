{
 "cells": [
  {
   "cell_type": "code",
   "execution_count": 1,
   "metadata": {},
   "outputs": [],
   "source": [
    "# for me, before use speech package i should done this:\n",
    "#pip install pipwin \n",
    "#pipwin install pyaudio\n",
    "\n",
    "\n",
    "import serial\n",
    "import speech_recognition as sr\n",
    "\n"
   ]
  },
  {
   "cell_type": "code",
   "execution_count": 2,
   "metadata": {},
   "outputs": [],
   "source": [
    "#have_a_command = False"
   ]
  },
  {
   "cell_type": "code",
   "execution_count": 3,
   "metadata": {},
   "outputs": [],
   "source": [
    "mic = sr.Microphone()"
   ]
  },
  {
   "cell_type": "code",
   "execution_count": 4,
   "metadata": {},
   "outputs": [
    {
     "data": {
      "text/plain": [
       "['Microsoft Sound Mapper - Input',\n",
       " 'Desktop Microphone (2- Microsof',\n",
       " 'Microphone (2- High Definition ',\n",
       " 'Microphone (FHD Camera Micropho',\n",
       " 'Microsoft Sound Mapper - Output',\n",
       " 'Speakers (2- High Definition Au',\n",
       " 'Primary Sound Capture Driver',\n",
       " 'Desktop Microphone (2- Microsoft® LifeCam HD-3000)',\n",
       " 'Microphone (2- High Definition Audio Device)',\n",
       " 'Microphone (FHD Camera Microphone)',\n",
       " 'Primary Sound Driver',\n",
       " 'Speakers (2- High Definition Audio Device)',\n",
       " 'Speakers (2- High Definition Audio Device)',\n",
       " 'Microphone (2- High Definition Audio Device)',\n",
       " 'Microphone (FHD Camera Microphone)',\n",
       " 'Desktop Microphone (2- Microsoft® LifeCam HD-3000)',\n",
       " 'Speakers (HD Audio Headphone/Speakers)',\n",
       " 'Microphone (HD Audio Microphone)',\n",
       " 'Desktop Microphone (Microsoft® LifeCam HD-3000)',\n",
       " 'Microphone (FHD Camera Microphone)']"
      ]
     },
     "execution_count": 4,
     "metadata": {},
     "output_type": "execute_result"
    }
   ],
   "source": [
    "sr.Microphone.list_microphone_names()"
   ]
  },
  {
   "cell_type": "code",
   "execution_count": 5,
   "metadata": {},
   "outputs": [],
   "source": [
    "mic = sr.Microphone(device_index=2)  # in my home this is the eMeet C96 camera"
   ]
  },
  {
   "cell_type": "code",
   "execution_count": 6,
   "metadata": {},
   "outputs": [],
   "source": [
    "# Initialize the recognizer\n",
    "recognizer = sr.Recognizer()\n",
    "\n",
    "# Define the COM port for your Arduino (change this to match your setup)\n",
    "#arduino_port = \"COM3\"\n",
    "\n",
    "# Initialize the Arduino connection\n",
    "#arduino = serial.Serial(arduino_port, 9600)\n",
    "\n",
    "def start_robot_voice_command():\n",
    "    try:\n",
    "        with mic as source:\n",
    "            print(\"Listening for 'robot start' command...\")\n",
    "            recognizer.adjust_for_ambient_noise(source)\n",
    "            audio = recognizer.listen(source)\n",
    "            have_a_command = True\n",
    "        command = recognizer.recognize_google(audio).lower()\n",
    "        \n",
    "        if \"start\" in command:\n",
    "            print(\"Starting the robot...\")\n",
    " #           arduino.write(b\"start\\n\")  # Send \"start\" command to Arduino\n",
    "        else:\n",
    "            print(\"Command not recognized.\")\n",
    "    except sr.UnknownValueError:\n",
    "        print(\"Could not understand the audio.\")\n",
    "        have_a_command = False\n",
    "        command = False\n",
    "    except sr.RequestError as e:\n",
    "        print(f\"Could not request results; {e}\")\n",
    "        have_a_command = False\n",
    "        command = False\n",
    "        \n",
    "    return have_a_command, command\n",
    "        \n",
    "        \n",
    "#if __name__ == \"__main__\":\n",
    " #   start_robot_voice_command()\n"
   ]
  },
  {
   "cell_type": "code",
   "execution_count": 7,
   "metadata": {},
   "outputs": [
    {
     "name": "stdout",
     "output_type": "stream",
     "text": [
      "Listening for 'robot start' command...\n",
      "result2:\n",
      "{   'alternative': [   {'confidence': 0.66021794, 'transcript': 'start'},\n",
      "                       {'confidence': 0.38396621, 'transcript': 'stop'},\n",
      "                       {'confidence': 0.74987131, 'transcript': 'start start'},\n",
      "                       {'confidence': 0.38396621, 'transcript': 'stopped'},\n",
      "                       {'confidence': 0.66021794, 'transcript': 'starte'}],\n",
      "    'final': True}\n",
      "Starting the robot...\n"
     ]
    }
   ],
   "source": [
    "have_a_command, command = start_robot_voice_command()"
   ]
  },
  {
   "cell_type": "code",
   "execution_count": 27,
   "metadata": {},
   "outputs": [],
   "source": []
  },
  {
   "cell_type": "code",
   "execution_count": 46,
   "metadata": {},
   "outputs": [
    {
     "data": {
      "text/plain": [
       "False"
      ]
     },
     "execution_count": 46,
     "metadata": {},
     "output_type": "execute_result"
    }
   ],
   "source": [
    "have_a_command"
   ]
  },
  {
   "cell_type": "code",
   "execution_count": 47,
   "metadata": {},
   "outputs": [
    {
     "data": {
      "text/plain": [
       "False"
      ]
     },
     "execution_count": 47,
     "metadata": {},
     "output_type": "execute_result"
    }
   ],
   "source": [
    "command"
   ]
  },
  {
   "cell_type": "code",
   "execution_count": 13,
   "metadata": {},
   "outputs": [
    {
     "ename": "NameError",
     "evalue": "name 'result2' is not defined",
     "output_type": "error",
     "traceback": [
      "\u001b[1;31m---------------------------------------------------------------------------\u001b[0m",
      "\u001b[1;31mNameError\u001b[0m                                 Traceback (most recent call last)",
      "\u001b[1;32m<ipython-input-13-ff986cd05f68>\u001b[0m in \u001b[0;36m<module>\u001b[1;34m\u001b[0m\n\u001b[1;32m----> 1\u001b[1;33m \u001b[0mresult2\u001b[0m\u001b[1;33m\u001b[0m\u001b[0m\n\u001b[0m",
      "\u001b[1;31mNameError\u001b[0m: name 'result2' is not defined"
     ]
    }
   ],
   "source": [
    "result2"
   ]
  },
  {
   "cell_type": "code",
   "execution_count": 14,
   "metadata": {},
   "outputs": [
    {
     "ename": "NameError",
     "evalue": "name 'source' is not defined",
     "output_type": "error",
     "traceback": [
      "\u001b[1;31m---------------------------------------------------------------------------\u001b[0m",
      "\u001b[1;31mNameError\u001b[0m                                 Traceback (most recent call last)",
      "\u001b[1;32m<ipython-input-14-db51be259388>\u001b[0m in \u001b[0;36m<module>\u001b[1;34m\u001b[0m\n\u001b[1;32m----> 1\u001b[1;33m \u001b[0maudio\u001b[0m \u001b[1;33m=\u001b[0m \u001b[0mrecognizer\u001b[0m\u001b[1;33m.\u001b[0m\u001b[0mlisten\u001b[0m\u001b[1;33m(\u001b[0m\u001b[0msource\u001b[0m\u001b[1;33m)\u001b[0m\u001b[1;33m\u001b[0m\u001b[0m\n\u001b[0m",
      "\u001b[1;31mNameError\u001b[0m: name 'source' is not defined"
     ]
    }
   ],
   "source": [
    "audio = recognizer.listen(source)"
   ]
  },
  {
   "cell_type": "code",
   "execution_count": 15,
   "metadata": {},
   "outputs": [
    {
     "ename": "NameError",
     "evalue": "name 'audio' is not defined",
     "output_type": "error",
     "traceback": [
      "\u001b[1;31m---------------------------------------------------------------------------\u001b[0m",
      "\u001b[1;31mNameError\u001b[0m                                 Traceback (most recent call last)",
      "\u001b[1;32m<ipython-input-15-f25004c02d77>\u001b[0m in \u001b[0;36m<module>\u001b[1;34m\u001b[0m\n\u001b[1;32m----> 1\u001b[1;33m \u001b[0mcommand\u001b[0m \u001b[1;33m=\u001b[0m \u001b[0mrecognizer\u001b[0m\u001b[1;33m.\u001b[0m\u001b[0mrecognize_google\u001b[0m\u001b[1;33m(\u001b[0m\u001b[0maudio\u001b[0m\u001b[1;33m)\u001b[0m\u001b[1;33m.\u001b[0m\u001b[0mlower\u001b[0m\u001b[1;33m(\u001b[0m\u001b[1;33m)\u001b[0m\u001b[1;33m\u001b[0m\u001b[0m\n\u001b[0m",
      "\u001b[1;31mNameError\u001b[0m: name 'audio' is not defined"
     ]
    }
   ],
   "source": [
    " command = recognizer.recognize_google(audio).lower()"
   ]
  },
  {
   "cell_type": "code",
   "execution_count": null,
   "metadata": {},
   "outputs": [],
   "source": []
  }
 ],
 "metadata": {
  "kernelspec": {
   "display_name": "Python 3",
   "language": "python",
   "name": "python3"
  },
  "language_info": {
   "codemirror_mode": {
    "name": "ipython",
    "version": 3
   },
   "file_extension": ".py",
   "mimetype": "text/x-python",
   "name": "python",
   "nbconvert_exporter": "python",
   "pygments_lexer": "ipython3",
   "version": "3.6.6"
  }
 },
 "nbformat": 4,
 "nbformat_minor": 2
}
